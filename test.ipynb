{
 "cells": [
  {
   "cell_type": "code",
   "execution_count": 72,
   "metadata": {},
   "outputs": [],
   "source": [
    "import csv\n",
    "\n",
    "class trajectory():\n",
    "    def __init__(self, path, time_scale=1.0):\n",
    "        # read trajectory from csv file\n",
    "        with open(path) as csvfile:\n",
    "            self.waypoints = list(csv.reader(csvfile, quoting=csv.QUOTE_NONNUMERIC))\n",
    "        # accumulate time\n",
    "        time = 0.0\n",
    "        for i in range(len(self.waypoints)):\n",
    "            time += time_scale * self.waypoints[i][0]\n",
    "            self.waypoints[i][0] = time\n",
    "        self.waypoints.reverse()\n",
    "\n",
    "    def get_waypoint(self, time):\n",
    "        if len(self.waypoints) == 1 or time <= self.waypoints[-1][0]:\n",
    "            return self.waypoints[-1]\n",
    "        else:\n",
    "            self.waypoints.pop()\n",
    "            return self.waypoints[-1]"
   ]
  },
  {
   "cell_type": "code",
   "execution_count": 73,
   "metadata": {},
   "outputs": [],
   "source": [
    "w = trajectory(\"traj1.csv\")"
   ]
  },
  {
   "cell_type": "code",
   "execution_count": 74,
   "metadata": {},
   "outputs": [
    {
     "ename": "AttributeError",
     "evalue": "'trajectory' object has no attribute 'get_waypoints'",
     "output_type": "error",
     "traceback": [
      "\u001b[0;31m---------------------------------------------------------------------------\u001b[0m",
      "\u001b[0;31mAttributeError\u001b[0m                            Traceback (most recent call last)",
      "Cell \u001b[0;32mIn[74], line 1\u001b[0m\n\u001b[0;32m----> 1\u001b[0m w\u001b[39m.\u001b[39;49mget_waypoints()\n",
      "\u001b[0;31mAttributeError\u001b[0m: 'trajectory' object has no attribute 'get_waypoints'"
     ]
    }
   ],
   "source": [
    "w.get_waypoint()"
   ]
  },
  {
   "cell_type": "code",
   "execution_count": 71,
   "metadata": {},
   "outputs": [
    {
     "ename": "IndexError",
     "evalue": "pop from empty list",
     "output_type": "error",
     "traceback": [
      "\u001b[0;31m---------------------------------------------------------------------------\u001b[0m",
      "\u001b[0;31mIndexError\u001b[0m                                Traceback (most recent call last)",
      "Cell \u001b[0;32mIn[71], line 1\u001b[0m\n\u001b[0;32m----> 1\u001b[0m []\u001b[39m.\u001b[39;49mpop()\n",
      "\u001b[0;31mIndexError\u001b[0m: pop from empty list"
     ]
    }
   ],
   "source": [
    "[].pop()"
   ]
  },
  {
   "cell_type": "code",
   "execution_count": null,
   "metadata": {},
   "outputs": [],
   "source": []
  }
 ],
 "metadata": {
  "kernelspec": {
   "display_name": "Python 3",
   "language": "python",
   "name": "python3"
  },
  "language_info": {
   "codemirror_mode": {
    "name": "ipython",
    "version": 3
   },
   "file_extension": ".py",
   "mimetype": "text/x-python",
   "name": "python",
   "nbconvert_exporter": "python",
   "pygments_lexer": "ipython3",
   "version": "3.8.10"
  },
  "orig_nbformat": 4
 },
 "nbformat": 4,
 "nbformat_minor": 2
}
